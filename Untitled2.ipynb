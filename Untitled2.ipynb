{
 "cells": [
  {
   "cell_type": "code",
   "execution_count": 5,
   "metadata": {},
   "outputs": [
    {
     "name": "stdout",
     "output_type": "stream",
     "text": [
      "utf-8\n",
      "{'norma-opisanie': {'pr1': 'РќР°Р»РёС‡РёРµ РєР°С€Р»СЏ: 0 - РѕС‚СЃСѓС‚СЃС‚РІРёРµ(РЅРѕСЂРјР°), 1 - СЃСѓС…РѕР№, 2 - РјРѕРєСЂС‹Р№', 'pr2': 'РўРµРјРїРµСЂР°С‚СѓСЂР°: 36.6 - РЅРѕСЂРјР°', 'pr3': 'РЎР»Р°Р±РѕСЃС‚СЊ: РЅРµС‚ - РЅРѕСЂРјР°, РґР° - РѕС‰СѓС‰РµРЅРёРµ СЃР»Р°Р±РѕСЃС‚Рё', 'pr4': 'РћС‚РµРє СЃР»РёР·РёСЃС‚РѕР№: РЅРµС‚ - РЅРѕСЂРјР°, РґР° - РѕС‚РµС‡РЅРѕСЃС‚СЊ СЃР»РёР·РёСЃС‚РѕР№'}, 'norma': {'pr1': '0', 'pr2': '36.6', 'pr3': 'РЅРµС‚', 'pr4': 'РЅРµС‚'}, 'bronhit-periods': {'pr1': '3', 'pr2': '4', 'pr3': '3', 'pr4': '2'}, 'sinusit-periods': {'pr1': '1', 'pr2': '4', 'pr3': '4', 'pr4': '3'}, 'bronhit-priznak1': {'per1': '1', 'per2': '2', 'per3': '1'}, 'bronhit-priznak2': {'per1': '36.6', 'per2': '37.0', 'per3': '37.4', 'per4': '36.7'}, 'bronhit-priznak3': {'per1': 'РЅРµС‚', 'per2': 'РґР°', 'per3': 'РЅРµС‚'}, 'bronhit-priznak4': {'per1': 'РЅРµС‚', 'per2': 'РґР°'}, 'sinusit-priznak1': {'per1': '0'}, 'sinusit-priznak2': {'per1': '36.7', 'per2': '37.3', 'per3': '38.0', 'per4': '36.7'}, 'sinusit-priznak3': {'per1': 'РЅРµС‚', 'per2': 'РґР°', 'per3': 'РґР°', 'per4': 'РЅРµС‚'}, 'sinusit-priznak4': {'per1': 'РґР°', 'per2': 'РґР°', 'per3': 'РЅРµС‚'}}\n"
     ]
    }
   ],
   "source": [
    "# -*- coding: utf-8 -*-\n",
    "\n",
    "from sys import getdefaultencoding\n",
    "import math\n",
    "import json\n",
    "import matplotlib\n",
    "from matplotlib import rcParams\n",
    "import matplotlib.pyplot as plt\n",
    "import numpy as np\n",
    "\n",
    "\n",
    "def jsontopython():\n",
    "    reading = open(\"rz.json\", \"r\")\n",
    "    jsonstring = reading.read()\n",
    "    reading.close()\n",
    "    jsonstring.encode('utf-8')\n",
    "    data = json.loads(jsonstring)\n",
    "    return data\n",
    "\n",
    "\n",
    "print(getdefaultencoding())\n",
    "data = jsontopython()\n",
    "print(data)"
   ]
  },
  {
   "cell_type": "code",
   "execution_count": null,
   "metadata": {},
   "outputs": [],
   "source": []
  }
 ],
 "metadata": {
  "kernelspec": {
   "display_name": "Python 3",
   "language": "python",
   "name": "python3"
  },
  "language_info": {
   "codemirror_mode": {
    "name": "ipython",
    "version": 3
   },
   "file_extension": ".py",
   "mimetype": "text/x-python",
   "name": "python",
   "nbconvert_exporter": "python",
   "pygments_lexer": "ipython3",
   "version": "3.6.8"
  }
 },
 "nbformat": 4,
 "nbformat_minor": 2
}
